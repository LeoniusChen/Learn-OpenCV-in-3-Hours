{
 "cells": [
  {
   "cell_type": "markdown",
   "source": [
    "## Chapter 3  Resize and Crop"
   ],
   "metadata": {}
  },
  {
   "cell_type": "code",
   "execution_count": 1,
   "source": [
    "import cv2"
   ],
   "outputs": [],
   "metadata": {}
  },
  {
   "cell_type": "code",
   "execution_count": 15,
   "source": [
    "image_path = 'Resources/iron_man.jpg'\r\n",
    "\r\n",
    "img = cv2.imread(image_path)  # numpy.ndarray [height, width, bgr]\r\n",
    "imgResize = cv2.resize(img, (300, 150))  # resize to given size (width, height)\r\n",
    "print(img.shape)\r\n",
    "\r\n",
    "imgCropped = img[0:200, 300:500, :]  # crop img at level of ndarray\r\n",
    "\r\n",
    "cv2.imshow('Image', img)\r\n",
    "cv2.imshow('Reszie Imgae', imgResize)\r\n",
    "cv2.imshow('Cropped Image', imgCropped)\r\n",
    "cv2.waitKey(0)\r\n",
    "cv2.destroyAllWindows()"
   ],
   "outputs": [
    {
     "output_type": "stream",
     "name": "stdout",
     "text": [
      "(326, 580, 3)\n"
     ]
    }
   ],
   "metadata": {}
  }
 ],
 "metadata": {
  "orig_nbformat": 4,
  "language_info": {
   "name": "python",
   "version": "3.7.6",
   "mimetype": "text/x-python",
   "codemirror_mode": {
    "name": "ipython",
    "version": 3
   },
   "pygments_lexer": "ipython3",
   "nbconvert_exporter": "python",
   "file_extension": ".py"
  },
  "kernelspec": {
   "name": "python3",
   "display_name": "Python 3.7.6 64-bit"
  },
  "interpreter": {
   "hash": "63ba2f6087c5353a3dd33181d8a4f48eb10f09d2a2de60e68f7814530efad5ba"
  }
 },
 "nbformat": 4,
 "nbformat_minor": 2
}