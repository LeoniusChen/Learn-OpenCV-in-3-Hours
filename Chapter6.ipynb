{
 "cells": [
  {
   "cell_type": "markdown",
   "source": [
    "## Chapter 6  Joining Images"
   ],
   "metadata": {}
  },
  {
   "cell_type": "code",
   "execution_count": 1,
   "source": [
    "import numpy as np\r\n",
    "import cv2"
   ],
   "outputs": [],
   "metadata": {}
  },
  {
   "cell_type": "code",
   "execution_count": 2,
   "source": [
    "def stackImages(scale,imgArray):\r\n",
    "    rows = len(imgArray)\r\n",
    "    cols = len(imgArray[0])\r\n",
    "    rowsAvailable = isinstance(imgArray[0], list)\r\n",
    "    width = imgArray[0][0].shape[1]\r\n",
    "    height = imgArray[0][0].shape[0]\r\n",
    "    if rowsAvailable:\r\n",
    "        for x in range ( 0, rows):\r\n",
    "            for y in range(0, cols):\r\n",
    "                if imgArray[x][y].shape[:2] == imgArray[0][0].shape [:2]:\r\n",
    "                    imgArray[x][y] = cv2.resize(imgArray[x][y], (0, 0), None, scale, scale)\r\n",
    "                else:\r\n",
    "                    imgArray[x][y] = cv2.resize(imgArray[x][y], (imgArray[0][0].shape[1], imgArray[0][0].shape[0]), None, scale, scale)\r\n",
    "                if len(imgArray[x][y].shape) == 2: imgArray[x][y]= cv2.cvtColor( imgArray[x][y], cv2.COLOR_GRAY2BGR)\r\n",
    "        imageBlank = np.zeros((height, width, 3), np.uint8)\r\n",
    "        hor = [imageBlank]*rows\r\n",
    "        hor_con = [imageBlank]*rows\r\n",
    "        for x in range(0, rows):\r\n",
    "            hor[x] = np.hstack(imgArray[x])\r\n",
    "        ver = np.vstack(hor)\r\n",
    "    else:\r\n",
    "        for x in range(0, rows):\r\n",
    "            if imgArray[x].shape[:2] == imgArray[0].shape[:2]:\r\n",
    "                imgArray[x] = cv2.resize(imgArray[x], (0, 0), None, scale, scale)\r\n",
    "            else:\r\n",
    "                imgArray[x] = cv2.resize(imgArray[x], (imgArray[0].shape[1], imgArray[0].shape[0]), None,scale, scale)\r\n",
    "            if len(imgArray[x].shape) == 2: imgArray[x] = cv2.cvtColor(imgArray[x], cv2.COLOR_GRAY2BGR)\r\n",
    "        hor= np.hstack(imgArray)\r\n",
    "        ver = hor\r\n",
    "    return ver"
   ],
   "outputs": [],
   "metadata": {}
  },
  {
   "cell_type": "code",
   "execution_count": 3,
   "source": [
    "# Show multiple images in one window using numpy\r\n",
    "image_path = 'Resources/iron_man.jpg'\r\n",
    "img = cv2.imread(image_path)\r\n",
    "\r\n",
    "imgHor = np.hstack((img, img))  # horizontal stack\r\n",
    "imgVer = np.vstack((img, img))  # vertical stack\r\n",
    "\r\n",
    "\r\n",
    "cv2.imshow('Horizontal Image', imgHor)\r\n",
    "cv2.imshow('Vertical Image', imgVer)\r\n",
    "cv2.waitKey(0)\r\n",
    "cv2.destroyAllWindows()\r\n"
   ],
   "outputs": [],
   "metadata": {}
  },
  {
   "cell_type": "code",
   "execution_count": 9,
   "source": [
    "# Use defined function, can handle with images with any shape\r\n",
    "imgStack = stackImages(0.5, ([[img, img, img], [img, img, img]]))\r\n",
    "cv2.imshow('Stack Image', imgStack)\r\n",
    "\r\n",
    "cv2.waitKey(0)\r\n",
    "cv2.destroyAllWindows()"
   ],
   "outputs": [],
   "metadata": {}
  },
  {
   "cell_type": "code",
   "execution_count": null,
   "source": [],
   "outputs": [],
   "metadata": {}
  }
 ],
 "metadata": {
  "orig_nbformat": 4,
  "language_info": {
   "name": "python",
   "version": "3.7.6",
   "mimetype": "text/x-python",
   "codemirror_mode": {
    "name": "ipython",
    "version": 3
   },
   "pygments_lexer": "ipython3",
   "nbconvert_exporter": "python",
   "file_extension": ".py"
  },
  "kernelspec": {
   "name": "python3",
   "display_name": "Python 3.7.6 64-bit"
  },
  "interpreter": {
   "hash": "63ba2f6087c5353a3dd33181d8a4f48eb10f09d2a2de60e68f7814530efad5ba"
  }
 },
 "nbformat": 4,
 "nbformat_minor": 2
}