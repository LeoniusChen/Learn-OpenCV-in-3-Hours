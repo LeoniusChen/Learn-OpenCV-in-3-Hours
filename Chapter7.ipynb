{
 "cells": [
  {
   "cell_type": "markdown",
   "source": [
    "## Chapter 7  Color Detection"
   ],
   "metadata": {}
  },
  {
   "cell_type": "code",
   "execution_count": 7,
   "source": [
    "import numpy as np\r\n",
    "import cv2"
   ],
   "outputs": [],
   "metadata": {}
  },
  {
   "cell_type": "code",
   "execution_count": 8,
   "source": [
    "def stackImages(scale,imgArray):\r\n",
    "    rows = len(imgArray)\r\n",
    "    cols = len(imgArray[0])\r\n",
    "    rowsAvailable = isinstance(imgArray[0], list)\r\n",
    "    width = imgArray[0][0].shape[1]\r\n",
    "    height = imgArray[0][0].shape[0]\r\n",
    "    if rowsAvailable:\r\n",
    "        for x in range ( 0, rows):\r\n",
    "            for y in range(0, cols):\r\n",
    "                if imgArray[x][y].shape[:2] == imgArray[0][0].shape [:2]:\r\n",
    "                    imgArray[x][y] = cv2.resize(imgArray[x][y], (0, 0), None, scale, scale)\r\n",
    "                else:\r\n",
    "                    imgArray[x][y] = cv2.resize(imgArray[x][y], (imgArray[0][0].shape[1], imgArray[0][0].shape[0]), None, scale, scale)\r\n",
    "                if len(imgArray[x][y].shape) == 2: imgArray[x][y]= cv2.cvtColor( imgArray[x][y], cv2.COLOR_GRAY2BGR)\r\n",
    "        imageBlank = np.zeros((height, width, 3), np.uint8)\r\n",
    "        hor = [imageBlank]*rows\r\n",
    "        hor_con = [imageBlank]*rows\r\n",
    "        for x in range(0, rows):\r\n",
    "            hor[x] = np.hstack(imgArray[x])\r\n",
    "        ver = np.vstack(hor)\r\n",
    "    else:\r\n",
    "        for x in range(0, rows):\r\n",
    "            if imgArray[x].shape[:2] == imgArray[0].shape[:2]:\r\n",
    "                imgArray[x] = cv2.resize(imgArray[x], (0, 0), None, scale, scale)\r\n",
    "            else:\r\n",
    "                imgArray[x] = cv2.resize(imgArray[x], (imgArray[0].shape[1], imgArray[0].shape[0]), None,scale, scale)\r\n",
    "            if len(imgArray[x].shape) == 2: imgArray[x] = cv2.cvtColor(imgArray[x], cv2.COLOR_GRAY2BGR)\r\n",
    "        hor= np.hstack(imgArray)\r\n",
    "        ver = hor\r\n",
    "    return ver"
   ],
   "outputs": [],
   "metadata": {}
  },
  {
   "cell_type": "code",
   "execution_count": 2,
   "source": [
    "def empty(a):\r\n",
    "    pass"
   ],
   "outputs": [],
   "metadata": {}
  },
  {
   "cell_type": "code",
   "execution_count": 10,
   "source": [
    "image_path = 'Resources/iron_man.jpg'\r\n",
    "\r\n",
    "# Set trackbars\r\n",
    "cv2.namedWindow('TrackBars')\r\n",
    "cv2.resizeWindow('TrackBars', 640, 240)\r\n",
    "cv2.createTrackbar('Hue Min', 'TrackBars', 0, 179, empty)\r\n",
    "cv2.createTrackbar('Hue Max', 'TrackBars', 24, 179, empty)\r\n",
    "cv2.createTrackbar('Sat Min', 'TrackBars', 47, 255, empty)\r\n",
    "cv2.createTrackbar('Sat Max', 'TrackBars', 130, 255, empty)\r\n",
    "cv2.createTrackbar('Val Min', 'TrackBars', 65, 255, empty)\r\n",
    "cv2.createTrackbar('Val Max', 'TrackBars', 255, 255, empty)\r\n",
    "\r\n",
    "while True:\r\n",
    "    img = cv2.imread(image_path)\r\n",
    "    imgHSV = cv2.cvtColor(img, cv2.COLOR_BGR2HSV)  # convert to HSV\r\n",
    "    h_min = cv2.getTrackbarPos('Hue Min', 'TrackBars')\r\n",
    "    h_max = cv2.getTrackbarPos('Hue Max', 'TrackBars')\r\n",
    "    s_min = cv2.getTrackbarPos('Sat Min', 'TrackBars')\r\n",
    "    s_max = cv2.getTrackbarPos('Sat Max', 'TrackBars')\r\n",
    "    v_min = cv2.getTrackbarPos('Val Min', 'TrackBars')\r\n",
    "    v_max = cv2.getTrackbarPos('Val Max', 'TrackBars')\r\n",
    "\r\n",
    "    lower = np.array([h_min, s_min, v_min])\r\n",
    "    upper = np.array([h_max, s_max, v_max])\r\n",
    "    mask = cv2.inRange(imgHSV, lower, upper)\r\n",
    "    imgResult = cv2.bitwise_and(img, img, mask=mask)\r\n",
    "\r\n",
    "    # cv2.imshow('Original Image', img)\r\n",
    "    # cv2.imshow('HSV Image', imgHSV)\r\n",
    "    # cv2.imshow('Mask Image', mask)\r\n",
    "    # cv2.imshow('Result Image', imgResult)\r\n",
    "    imgStack = stackImages(0.6, ([img, imgHSV], [mask, imgResult]))\r\n",
    "    cv2.imshow('Stack Images', imgStack)\r\n",
    "    if cv2.waitKey(1) & 0xFF == ord('q'):\r\n",
    "        break\r\n",
    "cv2.destroyAllWindows()"
   ],
   "outputs": [],
   "metadata": {}
  }
 ],
 "metadata": {
  "orig_nbformat": 4,
  "language_info": {
   "name": "python",
   "version": "3.7.6",
   "mimetype": "text/x-python",
   "codemirror_mode": {
    "name": "ipython",
    "version": 3
   },
   "pygments_lexer": "ipython3",
   "nbconvert_exporter": "python",
   "file_extension": ".py"
  },
  "kernelspec": {
   "name": "python3",
   "display_name": "Python 3.7.6 64-bit"
  },
  "interpreter": {
   "hash": "63ba2f6087c5353a3dd33181d8a4f48eb10f09d2a2de60e68f7814530efad5ba"
  }
 },
 "nbformat": 4,
 "nbformat_minor": 2
}