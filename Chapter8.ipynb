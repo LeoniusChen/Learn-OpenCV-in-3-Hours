{
 "cells": [
  {
   "cell_type": "markdown",
   "source": [
    "## Chapter 8  Contours / Shape Detection"
   ],
   "metadata": {}
  },
  {
   "cell_type": "code",
   "execution_count": 1,
   "source": [
    "import numpy as np\r\n",
    "import cv2"
   ],
   "outputs": [],
   "metadata": {}
  },
  {
   "cell_type": "code",
   "execution_count": 2,
   "source": [
    "def stackImages(scale,imgArray):\r\n",
    "    rows = len(imgArray)\r\n",
    "    cols = len(imgArray[0])\r\n",
    "    rowsAvailable = isinstance(imgArray[0], list)\r\n",
    "    width = imgArray[0][0].shape[1]\r\n",
    "    height = imgArray[0][0].shape[0]\r\n",
    "    if rowsAvailable:\r\n",
    "        for x in range ( 0, rows):\r\n",
    "            for y in range(0, cols):\r\n",
    "                if imgArray[x][y].shape[:2] == imgArray[0][0].shape [:2]:\r\n",
    "                    imgArray[x][y] = cv2.resize(imgArray[x][y], (0, 0), None, scale, scale)\r\n",
    "                else:\r\n",
    "                    imgArray[x][y] = cv2.resize(imgArray[x][y], (imgArray[0][0].shape[1], imgArray[0][0].shape[0]), None, scale, scale)\r\n",
    "                if len(imgArray[x][y].shape) == 2: imgArray[x][y]= cv2.cvtColor( imgArray[x][y], cv2.COLOR_GRAY2BGR)\r\n",
    "        imageBlank = np.zeros((height, width, 3), np.uint8)\r\n",
    "        hor = [imageBlank]*rows\r\n",
    "        hor_con = [imageBlank]*rows\r\n",
    "        for x in range(0, rows):\r\n",
    "            hor[x] = np.hstack(imgArray[x])\r\n",
    "        ver = np.vstack(hor)\r\n",
    "    else:\r\n",
    "        for x in range(0, rows):\r\n",
    "            if imgArray[x].shape[:2] == imgArray[0].shape[:2]:\r\n",
    "                imgArray[x] = cv2.resize(imgArray[x], (0, 0), None, scale, scale)\r\n",
    "            else:\r\n",
    "                imgArray[x] = cv2.resize(imgArray[x], (imgArray[0].shape[1], imgArray[0].shape[0]), None,scale, scale)\r\n",
    "            if len(imgArray[x].shape) == 2: imgArray[x] = cv2.cvtColor(imgArray[x], cv2.COLOR_GRAY2BGR)\r\n",
    "        hor= np.hstack(imgArray)\r\n",
    "        ver = hor\r\n",
    "    return ver"
   ],
   "outputs": [],
   "metadata": {}
  },
  {
   "cell_type": "code",
   "execution_count": 12,
   "source": [
    "def getContours(img):\r\n",
    "    contours, hierarchy = cv2.findContours(img, cv2.RETR_EXTERNAL, cv2.CHAIN_APPROX_NONE)\r\n",
    "    for cnt in contours:\r\n",
    "        area = cv2.contourArea(cnt)\r\n",
    "        if area > 500:\r\n",
    "            cv2.drawContours(imgContour, cnt, -1, (255, 0, 0), 3)\r\n",
    "            peri = cv2.arcLength(cnt, True)\r\n",
    "            approx = cv2.approxPolyDP(cnt, 0.02*peri, True)  # corner points\r\n",
    "            objCor = len(approx)\r\n",
    "            x, y, w, h = cv2.boundingRect(approx)  # get bounding box\r\n",
    "\r\n",
    "            if objCor == 3:\r\n",
    "                objType = 'Tri'\r\n",
    "            elif objCor == 4:\r\n",
    "                aspRation = w / float(h)\r\n",
    "                if aspRation > 0.95 and aspRation < 1.05:\r\n",
    "                    objType = 'Square'\r\n",
    "                else:\r\n",
    "                    objType = 'Rectangle'\r\n",
    "            elif objCor > 4:\r\n",
    "                objType = 'Circle'\r\n",
    "            else:\r\n",
    "                objType = 'None'\r\n",
    "\r\n",
    "            cv2.rectangle(imgContour, (x, y), (x+w, y+h), (0, 255, 0), 2)\r\n",
    "            cv2.putText(imgContour, objType, (x+w//2-10, y+h//2-10), cv2.FONT_HERSHEY_COMPLEX, 0.7, (0, 0, 0), 2)\r\n"
   ],
   "outputs": [],
   "metadata": {}
  },
  {
   "cell_type": "code",
   "execution_count": 13,
   "source": [
    "image_path = 'Resources/shapes.png'\r\n",
    "\r\n",
    "img = cv2.imread(image_path)\r\n",
    "imgContour = img.copy()\r\n",
    "\r\n",
    "imgGray = cv2.cvtColor(img, cv2.COLOR_BGR2GRAY)\r\n",
    "imgBlur = cv2.GaussianBlur(imgGray, (7, 7), 1)\r\n",
    "imgCanny = cv2.Canny(imgBlur, 50, 50)\r\n",
    "\r\n",
    "getContours(imgCanny)\r\n",
    "\r\n",
    "imgBlank = np.zeros_like(img)\r\n",
    "\r\n",
    "imgStack = stackImages(0.6, ([img, imgGray, imgBlur],\r\n",
    "                             [imgCanny, imgContour, imgBlank]))\r\n",
    "cv2.imshow('Stack Images', imgStack)\r\n",
    "\r\n",
    "cv2.waitKey(0)\r\n",
    "cv2.destroyAllWindows()"
   ],
   "outputs": [],
   "metadata": {}
  }
 ],
 "metadata": {
  "orig_nbformat": 4,
  "language_info": {
   "name": "python",
   "version": "3.7.6",
   "mimetype": "text/x-python",
   "codemirror_mode": {
    "name": "ipython",
    "version": 3
   },
   "pygments_lexer": "ipython3",
   "nbconvert_exporter": "python",
   "file_extension": ".py"
  },
  "kernelspec": {
   "name": "python3",
   "display_name": "Python 3.7.6 64-bit"
  },
  "interpreter": {
   "hash": "63ba2f6087c5353a3dd33181d8a4f48eb10f09d2a2de60e68f7814530efad5ba"
  }
 },
 "nbformat": 4,
 "nbformat_minor": 2
}