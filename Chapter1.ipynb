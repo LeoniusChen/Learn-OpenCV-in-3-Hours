{
 "cells": [
  {
   "cell_type": "markdown",
   "source": [
    "## Chapter 1  Read images, Videos and Webcam"
   ],
   "metadata": {}
  },
  {
   "cell_type": "code",
   "execution_count": 2,
   "source": [
    "import cv2"
   ],
   "outputs": [],
   "metadata": {}
  },
  {
   "cell_type": "code",
   "execution_count": 3,
   "source": [
    "# Read Image\r\n",
    "image_path = 'Resources/iron_man.jpg'\r\n",
    "\r\n",
    "img = cv2.imread(image_path)\r\n",
    "cv2.imshow('Output', img)\r\n",
    "cv2.waitKey(0)  # delay\r\n",
    "cv2.destroyAllWindows()  # use in Jupyter Notebook"
   ],
   "outputs": [],
   "metadata": {}
  },
  {
   "cell_type": "code",
   "execution_count": 4,
   "source": [
    "# Read Video\r\n",
    "video_path = 'Resources/Obama.mp4'\r\n",
    "\r\n",
    "cap = cv2.VideoCapture(video_path)  # load video\r\n",
    "while True:\r\n",
    "    success, img = cap.read()  # return img\r\n",
    "    cv2.imshow('Video', img)\r\n",
    "\r\n",
    "    if cv2.waitKey(1) & 0xFF == ord('q'):\r\n",
    "        break\r\n",
    "cv2.destroyAllWindows()"
   ],
   "outputs": [],
   "metadata": {}
  },
  {
   "cell_type": "code",
   "execution_count": 16,
   "source": [
    "# Use Webcam\r\n",
    "cap = cv2.VideoCapture(0)  # captor ID\r\n",
    "cap.set(3, 640)  # set width\r\n",
    "cap.set(4, 480)  # set height\r\n",
    "cap.set(10, 100)  # set brightness\r\n",
    "\r\n",
    "while True:\r\n",
    "    success, img = cap.read()\r\n",
    "    cv2.imshow('Webcam', img)\r\n",
    "\r\n",
    "    if cv2.waitKey(1) & 0xFF == ord('q'):\r\n",
    "        break\r\n",
    "cv2.destroyAllWindows()"
   ],
   "outputs": [],
   "metadata": {}
  }
 ],
 "metadata": {
  "orig_nbformat": 4,
  "language_info": {
   "name": "python",
   "version": "3.7.6",
   "mimetype": "text/x-python",
   "codemirror_mode": {
    "name": "ipython",
    "version": 3
   },
   "pygments_lexer": "ipython3",
   "nbconvert_exporter": "python",
   "file_extension": ".py"
  },
  "kernelspec": {
   "name": "python3",
   "display_name": "Python 3.7.6 64-bit"
  },
  "interpreter": {
   "hash": "63ba2f6087c5353a3dd33181d8a4f48eb10f09d2a2de60e68f7814530efad5ba"
  }
 },
 "nbformat": 4,
 "nbformat_minor": 2
}