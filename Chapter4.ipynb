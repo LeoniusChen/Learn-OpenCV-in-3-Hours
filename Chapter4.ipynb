{
 "cells": [
  {
   "cell_type": "markdown",
   "source": [
    "## Chapter 4  Shapes and Texts"
   ],
   "metadata": {}
  },
  {
   "cell_type": "code",
   "execution_count": 1,
   "source": [
    "import numpy as np\r\n",
    "import cv2"
   ],
   "outputs": [],
   "metadata": {}
  },
  {
   "cell_type": "code",
   "execution_count": 24,
   "source": [
    "img = np.zeros((512, 512, 3), np.uint8)\r\n",
    "# img[:] =  255, 0 , 0  # color this img as blue\r\n",
    "\r\n",
    "# Draw line on img\r\n",
    "cv2.line(img, (0, 0), (300, 300), (0, 255, 0), 3)  # img, start_point, end_point, color, thickness\r\n",
    "\r\n",
    "# Draw rectangle on img\r\n",
    "cv2.rectangle(img, (0, 0), (250, 350), (0, 0 ,255), 3)  # img, letf-up-corner, right-down-corner, color, thickness/cv2.FILLED\r\n",
    "\r\n",
    "# Draw circle\r\n",
    "cv2.circle(img, (400, 50), 30, (255, 255, 0), 5)  # img, centre, radius, color, thickness\r\n",
    "\r\n",
    "# Put text\r\n",
    "cv2.putText(img, \"OPENCV\", (300, 200), cv2.FONT_HERSHEY_COMPLEX, 1, (0,150,0), 1)  # img, text, coordinate, fonttype, size, color, thickness\r\n",
    "\r\n",
    "cv2.imshow('Image', img)\r\n",
    "cv2.waitKey(0)\r\n",
    "cv2.destroyAllWindows()"
   ],
   "outputs": [],
   "metadata": {}
  }
 ],
 "metadata": {
  "orig_nbformat": 4,
  "language_info": {
   "name": "python",
   "version": "3.7.6",
   "mimetype": "text/x-python",
   "codemirror_mode": {
    "name": "ipython",
    "version": 3
   },
   "pygments_lexer": "ipython3",
   "nbconvert_exporter": "python",
   "file_extension": ".py"
  },
  "kernelspec": {
   "name": "python3",
   "display_name": "Python 3.7.6 64-bit"
  },
  "interpreter": {
   "hash": "63ba2f6087c5353a3dd33181d8a4f48eb10f09d2a2de60e68f7814530efad5ba"
  }
 },
 "nbformat": 4,
 "nbformat_minor": 2
}