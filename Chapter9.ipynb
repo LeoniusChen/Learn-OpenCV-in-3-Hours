{
 "cells": [
  {
   "cell_type": "markdown",
   "source": [
    "## Chapter 9  Face Detection"
   ],
   "metadata": {}
  },
  {
   "cell_type": "code",
   "execution_count": 1,
   "source": [
    "import numpy as np\r\n",
    "import cv2"
   ],
   "outputs": [],
   "metadata": {}
  },
  {
   "cell_type": "code",
   "execution_count": null,
   "source": [
    "image_path = 'Resources/iron_man.jpg'\r\n",
    "\r\n",
    "f"
   ],
   "outputs": [],
   "metadata": {}
  }
 ],
 "metadata": {
  "orig_nbformat": 4,
  "language_info": {
   "name": "python",
   "version": "3.7.6",
   "mimetype": "text/x-python",
   "codemirror_mode": {
    "name": "ipython",
    "version": 3
   },
   "pygments_lexer": "ipython3",
   "nbconvert_exporter": "python",
   "file_extension": ".py"
  },
  "kernelspec": {
   "name": "python3",
   "display_name": "Python 3.7.6 64-bit"
  },
  "interpreter": {
   "hash": "63ba2f6087c5353a3dd33181d8a4f48eb10f09d2a2de60e68f7814530efad5ba"
  }
 },
 "nbformat": 4,
 "nbformat_minor": 2
}