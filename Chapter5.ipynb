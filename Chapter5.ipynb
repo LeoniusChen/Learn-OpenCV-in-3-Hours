{
 "cells": [
  {
   "cell_type": "markdown",
   "source": [
    "## Chapter 5  Warp Perspective"
   ],
   "metadata": {}
  },
  {
   "cell_type": "code",
   "execution_count": 6,
   "source": [
    "import numpy as np\r\n",
    "import cv2"
   ],
   "outputs": [],
   "metadata": {}
  },
  {
   "cell_type": "code",
   "execution_count": 7,
   "source": [
    "image_path = 'Resources/cards.jpg'\r\n",
    "width, height = 250, 350\r\n",
    "pts1 = np.float32([[597, 120], [946, 243], [422, 707], [757, 825]])  # left-up, right-up, left-down, right-down\r\n",
    "pts2 = np.float32([[0, 0], [width, 0], [0, height], [width, height]])\r\n",
    "\r\n",
    "img = cv2.imread(image_path)\r\n",
    "print(img.shape)\r\n",
    "matrix = cv2.getPerspectiveTransform(pts1, pts2)  # get transform matrix\r\n",
    "imgOutput = cv2.warpPerspective(img, matrix, (width, height))  # transform the area on img to a particular one\r\n",
    "\r\n",
    "cv2.imshow('Image', img)\r\n",
    "cv2.imshow('Output Image', imgOutput)\r\n",
    "\r\n",
    "cv2.waitKey(0)\r\n",
    "cv2.destroyAllWindows()"
   ],
   "outputs": [
    {
     "output_type": "stream",
     "name": "stdout",
     "text": [
      "(900, 1024, 3)\n"
     ]
    }
   ],
   "metadata": {}
  }
 ],
 "metadata": {
  "orig_nbformat": 4,
  "language_info": {
   "name": "python",
   "version": "3.7.6",
   "mimetype": "text/x-python",
   "codemirror_mode": {
    "name": "ipython",
    "version": 3
   },
   "pygments_lexer": "ipython3",
   "nbconvert_exporter": "python",
   "file_extension": ".py"
  },
  "kernelspec": {
   "name": "python3",
   "display_name": "Python 3.7.6 64-bit"
  },
  "interpreter": {
   "hash": "63ba2f6087c5353a3dd33181d8a4f48eb10f09d2a2de60e68f7814530efad5ba"
  }
 },
 "nbformat": 4,
 "nbformat_minor": 2
}