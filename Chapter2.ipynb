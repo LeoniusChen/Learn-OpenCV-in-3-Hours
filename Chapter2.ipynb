{
 "cells": [
  {
   "cell_type": "markdown",
   "source": [
    "## Chapter 2  Basic Functions"
   ],
   "metadata": {}
  },
  {
   "cell_type": "code",
   "execution_count": 7,
   "source": [
    "import numpy as np\r\n",
    "import cv2"
   ],
   "outputs": [],
   "metadata": {}
  },
  {
   "cell_type": "code",
   "execution_count": 10,
   "source": [
    "image_path = 'Resources/iron_man.jpg'\r\n",
    "\r\n",
    "img = cv2.imread(image_path)\r\n",
    "kernel = np.ones((5,5), np.uint8)\r\n",
    "\r\n",
    "imgGRay = cv2.cvtColor(img, cv2.COLOR_BGR2GRAY)  # convert to gray image\r\n",
    "imgBlur = cv2.GaussianBlur(imgGRay, ksize=(7,7), sigmaX=0)  # blur this image\r\n",
    "imgCanny = cv2.Canny(img, 100, 100)  # detct edge\r\n",
    "imgDilation = cv2.dilate(imgCanny, kernel, iterations=1)  # dilate the edge if it's too thin\r\n",
    "imgEroded = cv2.erode(imgDilation, kernel, iterations=1)  # erode this edge\r\n",
    "\r\n",
    "cv2.imshow('Gray Image', imgGRay)\r\n",
    "cv2.imshow('Blur Image', imgBlur)\r\n",
    "cv2.imshow('Canny Image', imgCanny)\r\n",
    "cv2.imshow('Dilation Image', imgDilation)\r\n",
    "cv2.imshow('Eroded Image', imgEroded)\r\n",
    "cv2.waitKey(0)\r\n",
    "cv2.destroyAllWindows()"
   ],
   "outputs": [],
   "metadata": {}
  }
 ],
 "metadata": {
  "orig_nbformat": 4,
  "language_info": {
   "name": "python",
   "version": "3.7.6",
   "mimetype": "text/x-python",
   "codemirror_mode": {
    "name": "ipython",
    "version": 3
   },
   "pygments_lexer": "ipython3",
   "nbconvert_exporter": "python",
   "file_extension": ".py"
  },
  "kernelspec": {
   "name": "python3",
   "display_name": "Python 3.7.6 64-bit"
  },
  "interpreter": {
   "hash": "63ba2f6087c5353a3dd33181d8a4f48eb10f09d2a2de60e68f7814530efad5ba"
  }
 },
 "nbformat": 4,
 "nbformat_minor": 2
}